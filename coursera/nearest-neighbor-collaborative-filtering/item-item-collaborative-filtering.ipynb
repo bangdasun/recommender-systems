{
 "cells": [
  {
   "cell_type": "markdown",
   "metadata": {},
   "source": [
    "### Item-item Collaborative Filtering\n",
    "\n",
    "Fundamentally user-user CF is great, good results, but (1) issue of sparsity, with large item sets, small number of ratings, too often there are no points where no recommendation can be made, user might have nothing in comment with others; (2) computational performance, with so many users, calculate pairwise similarities is slow, user profile change quickly, need to calculate real time.\n",
    "\n",
    "Here comes the item-item CF. Item-item similarities are more stable (doesn't mean item attributes, that's content-based), since average item has many more ratings then average user. In this case what we mean by similarity is **do people treat these things the same in terms of like and dislike**. Do people like this tend to like the other? Do people purchase this tend to purchase the other?\n",
    "\n",
    "Core assumptions:\n",
    "1. item-item relationships need to be stable\n",
    "\n",
    "Therefore leads to a main limitation: the recommendations are **lower serendipity** (less suprising). There will be an issue raised for item with short live cycle.\n",
    "\n",
    "The algorithm is similar to user-user CF, but instead of averaging on users, we **average over item**. We can use pre-compute item similarities overall pairs of items, look for items similar to those the user likes / or in their basket / or has purchased.\n",
    "\n",
    "$$s(u, i) = \\frac{\\sum_{j\\in N(i: u)}w_{ij}(r_{uj}-\\bar{r}_{j})}{\\sum_{i\\in N(i: u)}w_{ij}} + \\bar{r}_{i},$$\n",
    "\n",
    "here $\\bar{r}_{i}$ is the average rating of item $i$, and $w_{ij}$ is the similarity between item $i$ and item $j$:\n",
    "\n",
    "$$w_{ij} = \\frac{r_i^\\top r_j}{||r_i||_{2}||r_j||_{2}},$$\n",
    "\n",
    "and item $j$ is in the neighbor of item $i$, which means user who rated $i$ should also rated $j$.\n",
    "\n",
    "The whole process is same with user-user CF: calculate similarities and then predict scores.\n",
    "\n",
    "In a word, item-item CF is much faster and more stable / conservative, and it is treated as a more efficient method than user-user CF and item-item CF is also treated as an aggregated producted associated recommender (weighted by similarities)."
   ]
  },
  {
   "cell_type": "code",
   "execution_count": 1,
   "metadata": {
    "collapsed": true
   },
   "outputs": [],
   "source": [
    "import numpy as np\n",
    "import pandas as pd"
   ]
  },
  {
   "cell_type": "markdown",
   "metadata": {},
   "source": [
    "**Note**: dataset for this assignment is not entirely correct, the **NormRatings** is not correctly calculated."
   ]
  },
  {
   "cell_type": "code",
   "execution_count": 2,
   "metadata": {
    "collapsed": true
   },
   "outputs": [],
   "source": [
    "ratings = pd.read_excel('Assignment 5.xls', sheet_name='Ratings')\n",
    "\n",
    "# normalized ratings should use item mean rather than user mean\n",
    "norm_ratings = pd.read_excel('Assignment 5.xls', sheet_name='NormRatings')\n",
    "matrix = pd.read_excel('Assignment 5.xls', sheet_name='Matrix')\n",
    "filter_matrix = pd.read_excel('Assignment 5.xls', sheet_name='FilterMatrix')"
   ]
  },
  {
   "cell_type": "code",
   "execution_count": 3,
   "metadata": {},
   "outputs": [
    {
     "data": {
      "text/html": [
       "<div>\n",
       "<style scoped>\n",
       "    .dataframe tbody tr th:only-of-type {\n",
       "        vertical-align: middle;\n",
       "    }\n",
       "\n",
       "    .dataframe tbody tr th {\n",
       "        vertical-align: top;\n",
       "    }\n",
       "\n",
       "    .dataframe thead th {\n",
       "        text-align: right;\n",
       "    }\n",
       "</style>\n",
       "<table border=\"1\" class=\"dataframe\">\n",
       "  <thead>\n",
       "    <tr style=\"text-align: right;\">\n",
       "      <th></th>\n",
       "      <th>User</th>\n",
       "      <th>1: Toy Story (1995)</th>\n",
       "      <th>1210: Star Wars: Episode VI - Return of the Jedi (1983)</th>\n",
       "      <th>356: Forrest Gump (1994)</th>\n",
       "      <th>318: Shawshank Redemption, The (1994)</th>\n",
       "      <th>593: Silence of the Lambs, The (1991)</th>\n",
       "      <th>3578: Gladiator (2000)</th>\n",
       "      <th>260: Star Wars: Episode IV - A New Hope (1977)</th>\n",
       "      <th>2028: Saving Private Ryan (1998)</th>\n",
       "      <th>296: Pulp Fiction (1994)</th>\n",
       "      <th>...</th>\n",
       "      <th>2916: Total Recall (1990)</th>\n",
       "      <th>780: Independence Day (ID4) (1996)</th>\n",
       "      <th>541: Blade Runner (1982)</th>\n",
       "      <th>1265: Groundhog Day (1993)</th>\n",
       "      <th>2571: Matrix, The (1999)</th>\n",
       "      <th>527: Schindler's List (1993)</th>\n",
       "      <th>2762: Sixth Sense, The (1999)</th>\n",
       "      <th>1198: Raiders of the Lost Ark (1981)</th>\n",
       "      <th>34: Babe (1995)</th>\n",
       "      <th>Mean</th>\n",
       "    </tr>\n",
       "  </thead>\n",
       "  <tbody>\n",
       "    <tr>\n",
       "      <th>0</th>\n",
       "      <td>755</td>\n",
       "      <td>2.0</td>\n",
       "      <td>5.0</td>\n",
       "      <td>2.0</td>\n",
       "      <td>NaN</td>\n",
       "      <td>4.0</td>\n",
       "      <td>4.0</td>\n",
       "      <td>1.0</td>\n",
       "      <td>2.0</td>\n",
       "      <td>NaN</td>\n",
       "      <td>...</td>\n",
       "      <td>NaN</td>\n",
       "      <td>5.0</td>\n",
       "      <td>2.0</td>\n",
       "      <td>5.0</td>\n",
       "      <td>4.0</td>\n",
       "      <td>2.0</td>\n",
       "      <td>5.0</td>\n",
       "      <td>NaN</td>\n",
       "      <td>NaN</td>\n",
       "      <td>3.200000</td>\n",
       "    </tr>\n",
       "    <tr>\n",
       "      <th>1</th>\n",
       "      <td>5277</td>\n",
       "      <td>1.0</td>\n",
       "      <td>NaN</td>\n",
       "      <td>NaN</td>\n",
       "      <td>2.0</td>\n",
       "      <td>4.0</td>\n",
       "      <td>2.0</td>\n",
       "      <td>5.0</td>\n",
       "      <td>NaN</td>\n",
       "      <td>NaN</td>\n",
       "      <td>...</td>\n",
       "      <td>2.0</td>\n",
       "      <td>2.0</td>\n",
       "      <td>NaN</td>\n",
       "      <td>2.0</td>\n",
       "      <td>NaN</td>\n",
       "      <td>5.0</td>\n",
       "      <td>1.0</td>\n",
       "      <td>3.0</td>\n",
       "      <td>NaN</td>\n",
       "      <td>2.769231</td>\n",
       "    </tr>\n",
       "    <tr>\n",
       "      <th>2</th>\n",
       "      <td>1577</td>\n",
       "      <td>NaN</td>\n",
       "      <td>NaN</td>\n",
       "      <td>NaN</td>\n",
       "      <td>5.0</td>\n",
       "      <td>2.0</td>\n",
       "      <td>NaN</td>\n",
       "      <td>NaN</td>\n",
       "      <td>NaN</td>\n",
       "      <td>NaN</td>\n",
       "      <td>...</td>\n",
       "      <td>1.0</td>\n",
       "      <td>4.0</td>\n",
       "      <td>4.0</td>\n",
       "      <td>1.0</td>\n",
       "      <td>1.0</td>\n",
       "      <td>2.0</td>\n",
       "      <td>3.0</td>\n",
       "      <td>1.0</td>\n",
       "      <td>3.0</td>\n",
       "      <td>2.333333</td>\n",
       "    </tr>\n",
       "  </tbody>\n",
       "</table>\n",
       "<p>3 rows × 22 columns</p>\n",
       "</div>"
      ],
      "text/plain": [
       "   User  1: Toy Story (1995)  \\\n",
       "0   755                  2.0   \n",
       "1  5277                  1.0   \n",
       "2  1577                  NaN   \n",
       "\n",
       "   1210: Star Wars: Episode VI - Return of the Jedi (1983)  \\\n",
       "0                                                5.0         \n",
       "1                                                NaN         \n",
       "2                                                NaN         \n",
       "\n",
       "   356: Forrest Gump (1994)  318: Shawshank Redemption, The (1994)  \\\n",
       "0                       2.0                                    NaN   \n",
       "1                       NaN                                    2.0   \n",
       "2                       NaN                                    5.0   \n",
       "\n",
       "   593: Silence of the Lambs, The (1991)  3578: Gladiator (2000)  \\\n",
       "0                                    4.0                     4.0   \n",
       "1                                    4.0                     2.0   \n",
       "2                                    2.0                     NaN   \n",
       "\n",
       "   260: Star Wars: Episode IV - A New Hope (1977)  \\\n",
       "0                                             1.0   \n",
       "1                                             5.0   \n",
       "2                                             NaN   \n",
       "\n",
       "   2028: Saving Private Ryan (1998)  296: Pulp Fiction (1994)    ...     \\\n",
       "0                               2.0                       NaN    ...      \n",
       "1                               NaN                       NaN    ...      \n",
       "2                               NaN                       NaN    ...      \n",
       "\n",
       "   2916: Total Recall (1990)  780: Independence Day (ID4) (1996)  \\\n",
       "0                        NaN                                 5.0   \n",
       "1                        2.0                                 2.0   \n",
       "2                        1.0                                 4.0   \n",
       "\n",
       "   541: Blade Runner (1982)  1265: Groundhog Day (1993)  \\\n",
       "0                       2.0                         5.0   \n",
       "1                       NaN                         2.0   \n",
       "2                       4.0                         1.0   \n",
       "\n",
       "   2571: Matrix, The (1999)  527: Schindler's List (1993)  \\\n",
       "0                       4.0                           2.0   \n",
       "1                       NaN                           5.0   \n",
       "2                       1.0                           2.0   \n",
       "\n",
       "   2762: Sixth Sense, The (1999)  1198: Raiders of the Lost Ark (1981)  \\\n",
       "0                            5.0                                   NaN   \n",
       "1                            1.0                                   3.0   \n",
       "2                            3.0                                   1.0   \n",
       "\n",
       "   34: Babe (1995)      Mean  \n",
       "0              NaN  3.200000  \n",
       "1              NaN  2.769231  \n",
       "2              3.0  2.333333  \n",
       "\n",
       "[3 rows x 22 columns]"
      ]
     },
     "execution_count": 3,
     "metadata": {},
     "output_type": "execute_result"
    }
   ],
   "source": [
    "ratings.head(3)"
   ]
  },
  {
   "cell_type": "code",
   "execution_count": 4,
   "metadata": {},
   "outputs": [
    {
     "data": {
      "text/plain": [
       "User                                                            L2\n",
       "1: Toy Story (1995)                                        11.8322\n",
       "1210: Star Wars: Episode VI - Return of the Jedi (1983)    11.6619\n",
       "356: Forrest Gump (1994)                                   9.89949\n",
       "318: Shawshank Redemption, The (1994)                      12.4097\n",
       "593: Silence of the Lambs, The (1991)                      12.4499\n",
       "3578: Gladiator (2000)                                     11.3578\n",
       "260: Star Wars: Episode IV - A New Hope (1977)             14.2478\n",
       "2028: Saving Private Ryan (1998)                           10.9087\n",
       "296: Pulp Fiction (1994)                                   10.6301\n",
       "1259: Stand by Me (1986)                                   9.94987\n",
       "2396: Shakespeare in Love (1998)                           10.7703\n",
       "2916: Total Recall (1990)                                  6.78233\n",
       "780: Independence Day (ID4) (1996)                         11.7473\n",
       "541: Blade Runner (1982)                                   10.1489\n",
       "1265: Groundhog Day (1993)                                   12.53\n",
       "2571: Matrix, The (1999)                                   11.0454\n",
       "527: Schindler's List (1993)                               11.6619\n",
       "2762: Sixth Sense, The (1999)                               11.225\n",
       "1198: Raiders of the Lost Ark (1981)                       10.8628\n",
       "34: Babe (1995)                                            10.3923\n",
       "Mean                                                           NaN\n",
       "Name: 20, dtype: object"
      ]
     },
     "execution_count": 4,
     "metadata": {},
     "output_type": "execute_result"
    }
   ],
   "source": [
    "# L2-norm factor (root of sum square of ratings for each movie)\n",
    "ratings.iloc[-1]"
   ]
  },
  {
   "cell_type": "markdown",
   "metadata": {
    "collapsed": true
   },
   "source": [
    "#### Top 5 movies most similar to Toy Story\n",
    "\n",
    "(1) Raw"
   ]
  },
  {
   "cell_type": "code",
   "execution_count": 5,
   "metadata": {},
   "outputs": [
    {
     "data": {
      "text/plain": [
       "Index(['User', '1: Toy Story (1995)',\n",
       "       '1210: Star Wars: Episode VI - Return of the Jedi (1983)',\n",
       "       '356: Forrest Gump (1994)', '318: Shawshank Redemption, The (1994)',\n",
       "       '593: Silence of the Lambs, The (1991)', '3578: Gladiator (2000)',\n",
       "       '260: Star Wars: Episode IV - A New Hope (1977)',\n",
       "       '2028: Saving Private Ryan (1998)', '296: Pulp Fiction (1994)',\n",
       "       '1259: Stand by Me (1986)', '2396: Shakespeare in Love (1998)',\n",
       "       '2916: Total Recall (1990)', '780: Independence Day (ID4) (1996)',\n",
       "       '541: Blade Runner (1982)', '1265: Groundhog Day (1993)',\n",
       "       '2571: Matrix, The (1999)', '527: Schindler's List (1993)',\n",
       "       '2762: Sixth Sense, The (1999)', '1198: Raiders of the Lost Ark (1981)',\n",
       "       '34: Babe (1995)', 'Mean'],\n",
       "      dtype='object')"
      ]
     },
     "execution_count": 5,
     "metadata": {},
     "output_type": "execute_result"
    }
   ],
   "source": [
    "ratings.columns"
   ]
  },
  {
   "cell_type": "markdown",
   "metadata": {},
   "source": [
    "Use cosine similarity."
   ]
  },
  {
   "cell_type": "code",
   "execution_count": 6,
   "metadata": {},
   "outputs": [
    {
     "data": {
      "text/plain": [
       "260: Star Wars: Episode IV - A New Hope (1977)    0.747409\n",
       "780: Independence Day (ID4) (1996)                0.690665\n",
       "296: Pulp Fiction (1994)                          0.667846\n",
       "318: Shawshank Redemption, The (1994)             0.667424\n",
       "1265: Groundhog Day (1993)                        0.661016\n",
       "Name: 1: Toy Story (1995), dtype: float64"
      ]
     },
     "execution_count": 6,
     "metadata": {},
     "output_type": "execute_result"
    }
   ],
   "source": [
    "# calculate cosine similarity\n",
    "from sklearn.metrics.pairwise import cosine_similarity\n",
    "\n",
    "sim_matrix = pd.DataFrame(cosine_similarity(ratings.iloc[:-1, 1:-1].fillna(0).T),\n",
    "                          columns=ratings.columns[1:-1], index=ratings.columns[1:-1])\n",
    "sim_matrix['1: Toy Story (1995)'].sort_values(ascending=False)[1:6]"
   ]
  },
  {
   "cell_type": "markdown",
   "metadata": {},
   "source": [
    "(2) Normalized\n",
    "\n",
    "Based on normalized rating data."
   ]
  },
  {
   "cell_type": "code",
   "execution_count": 7,
   "metadata": {},
   "outputs": [
    {
     "data": {
      "text/plain": [
       "34: Babe (1995)                          0.554448\n",
       "356: Forrest Gump (1994)                 0.355780\n",
       "296: Pulp Fiction (1994)                 0.295013\n",
       "318: Shawshank Redemption, The (1994)    0.215975\n",
       "2028: Saving Private Ryan (1998)         0.192799\n",
       "Name: 1: Toy Story (1995), dtype: float64"
      ]
     },
     "execution_count": 7,
     "metadata": {},
     "output_type": "execute_result"
    }
   ],
   "source": [
    "sim_matrix_norm = pd.DataFrame(cosine_similarity(norm_ratings.iloc[:-1, 1:].T),\n",
    "                          columns=norm_ratings.columns[1:], index=norm_ratings.columns[1:])\n",
    "sim_matrix_norm['1: Toy Story (1995)'].sort_values(ascending=False)[1:6]"
   ]
  },
  {
   "cell_type": "markdown",
   "metadata": {
    "collapsed": true
   },
   "source": [
    "#### Top 5 movies for user 5277 \n",
    "\n",
    "(1) Raw"
   ]
  },
  {
   "cell_type": "code",
   "execution_count": 8,
   "metadata": {},
   "outputs": [
    {
     "data": {
      "text/plain": [
       "Index(['1: Toy Story (1995)', '318: Shawshank Redemption, The (1994)',\n",
       "       '593: Silence of the Lambs, The (1991)', '3578: Gladiator (2000)',\n",
       "       '260: Star Wars: Episode IV - A New Hope (1977)',\n",
       "       '1259: Stand by Me (1986)', '2396: Shakespeare in Love (1998)',\n",
       "       '2916: Total Recall (1990)', '780: Independence Day (ID4) (1996)',\n",
       "       '1265: Groundhog Day (1993)', '527: Schindler's List (1993)',\n",
       "       '2762: Sixth Sense, The (1999)',\n",
       "       '1198: Raiders of the Lost Ark (1981)'],\n",
       "      dtype='object')"
      ]
     },
     "execution_count": 8,
     "metadata": {},
     "output_type": "execute_result"
    }
   ],
   "source": [
    "user = 5277\n",
    "\n",
    "# user ratings\n",
    "user_ratings = ratings.loc[ratings['User'] == user].iloc[:, 1:-1]\n",
    "user_ratings_norm = norm_ratings.loc[norm_ratings['User'] == user].iloc[:, 1:-1]\n",
    "\n",
    "# item neighbors: has to be rated by users\n",
    "item_neighbors = user_ratings.T[user_ratings.notnull().T.values.reshape(-1)].T.columns\n",
    "item_neighbors"
   ]
  },
  {
   "cell_type": "markdown",
   "metadata": {},
   "source": [
    "Use the formula (raw format)."
   ]
  },
  {
   "cell_type": "code",
   "execution_count": 9,
   "metadata": {
    "collapsed": true
   },
   "outputs": [],
   "source": [
    "def calc_score(user, item, sim_matrix, user_ratings):\n",
    "    w = sim_matrix.loc[item_neighbors.tolist()][item].values.reshape(-1)\n",
    "    r = user_ratings[item_neighbors].values.reshape(-1)\n",
    "    return w.dot(r) / np.sum(w)"
   ]
  },
  {
   "cell_type": "code",
   "execution_count": 10,
   "metadata": {
    "scrolled": true
   },
   "outputs": [
    {
     "data": {
      "text/html": [
       "<div>\n",
       "<style scoped>\n",
       "    .dataframe tbody tr th:only-of-type {\n",
       "        vertical-align: middle;\n",
       "    }\n",
       "\n",
       "    .dataframe tbody tr th {\n",
       "        vertical-align: top;\n",
       "    }\n",
       "\n",
       "    .dataframe thead th {\n",
       "        text-align: right;\n",
       "    }\n",
       "</style>\n",
       "<table border=\"1\" class=\"dataframe\">\n",
       "  <thead>\n",
       "    <tr style=\"text-align: right;\">\n",
       "      <th></th>\n",
       "      <th>item</th>\n",
       "      <th>score</th>\n",
       "    </tr>\n",
       "  </thead>\n",
       "  <tbody>\n",
       "    <tr>\n",
       "      <th>16</th>\n",
       "      <td>527: Schindler's List (1993)</td>\n",
       "      <td>2.973883</td>\n",
       "    </tr>\n",
       "    <tr>\n",
       "      <th>9</th>\n",
       "      <td>1259: Stand by Me (1986)</td>\n",
       "      <td>2.928801</td>\n",
       "    </tr>\n",
       "    <tr>\n",
       "      <th>6</th>\n",
       "      <td>260: Star Wars: Episode IV - A New Hope (1977)</td>\n",
       "      <td>2.922240</td>\n",
       "    </tr>\n",
       "    <tr>\n",
       "      <th>4</th>\n",
       "      <td>593: Silence of the Lambs, The (1991)</td>\n",
       "      <td>2.883304</td>\n",
       "    </tr>\n",
       "    <tr>\n",
       "      <th>10</th>\n",
       "      <td>2396: Shakespeare in Love (1998)</td>\n",
       "      <td>2.852131</td>\n",
       "    </tr>\n",
       "  </tbody>\n",
       "</table>\n",
       "</div>"
      ],
      "text/plain": [
       "                                              item     score\n",
       "16                    527: Schindler's List (1993)  2.973883\n",
       "9                         1259: Stand by Me (1986)  2.928801\n",
       "6   260: Star Wars: Episode IV - A New Hope (1977)  2.922240\n",
       "4            593: Silence of the Lambs, The (1991)  2.883304\n",
       "10                2396: Shakespeare in Love (1998)  2.852131"
      ]
     },
     "execution_count": 10,
     "metadata": {},
     "output_type": "execute_result"
    }
   ],
   "source": [
    "score = []\n",
    "for item in matrix.columns.tolist():\n",
    "    score.append(calc_score(user, item, sim_matrix, user_ratings))\n",
    "\n",
    "preds = pd.DataFrame({'item': matrix.columns.tolist(), 'score': score})\n",
    "preds.sort_values(by='score', ascending=False).head()"
   ]
  },
  {
   "cell_type": "markdown",
   "metadata": {},
   "source": [
    "(2) Normalized"
   ]
  },
  {
   "cell_type": "code",
   "execution_count": 11,
   "metadata": {
    "collapsed": true
   },
   "outputs": [],
   "source": [
    "def calc_score_norm(user, item, sim_matrix, user_ratings):\n",
    "    w = sim_matrix.loc[item_neighbors.tolist()][item].values.reshape(-1)\n",
    "    r = user_ratings[item_neighbors].values.reshape(-1) - ratings.mean()[item_neighbors]\n",
    "    return (w.dot(r) / np.sum(np.abs(w))) + ratings.mean()[item]"
   ]
  },
  {
   "cell_type": "code",
   "execution_count": 12,
   "metadata": {},
   "outputs": [
    {
     "data": {
      "text/html": [
       "<div>\n",
       "<style scoped>\n",
       "    .dataframe tbody tr th:only-of-type {\n",
       "        vertical-align: middle;\n",
       "    }\n",
       "\n",
       "    .dataframe tbody tr th {\n",
       "        vertical-align: top;\n",
       "    }\n",
       "\n",
       "    .dataframe thead th {\n",
       "        text-align: right;\n",
       "    }\n",
       "</style>\n",
       "<table border=\"1\" class=\"dataframe\">\n",
       "  <thead>\n",
       "    <tr style=\"text-align: right;\">\n",
       "      <th></th>\n",
       "      <th>item</th>\n",
       "      <th>score</th>\n",
       "    </tr>\n",
       "  </thead>\n",
       "  <tbody>\n",
       "    <tr>\n",
       "      <th>6</th>\n",
       "      <td>260: Star Wars: Episode IV - A New Hope (1977)</td>\n",
       "      <td>5.041868</td>\n",
       "    </tr>\n",
       "    <tr>\n",
       "      <th>16</th>\n",
       "      <td>527: Schindler's List (1993)</td>\n",
       "      <td>4.950092</td>\n",
       "    </tr>\n",
       "    <tr>\n",
       "      <th>9</th>\n",
       "      <td>1259: Stand by Me (1986)</td>\n",
       "      <td>4.202127</td>\n",
       "    </tr>\n",
       "    <tr>\n",
       "      <th>10</th>\n",
       "      <td>2396: Shakespeare in Love (1998)</td>\n",
       "      <td>4.073123</td>\n",
       "    </tr>\n",
       "    <tr>\n",
       "      <th>7</th>\n",
       "      <td>2028: Saving Private Ryan (1998)</td>\n",
       "      <td>3.946249</td>\n",
       "    </tr>\n",
       "  </tbody>\n",
       "</table>\n",
       "</div>"
      ],
      "text/plain": [
       "                                              item     score\n",
       "6   260: Star Wars: Episode IV - A New Hope (1977)  5.041868\n",
       "16                    527: Schindler's List (1993)  4.950092\n",
       "9                         1259: Stand by Me (1986)  4.202127\n",
       "10                2396: Shakespeare in Love (1998)  4.073123\n",
       "7                 2028: Saving Private Ryan (1998)  3.946249"
      ]
     },
     "execution_count": 12,
     "metadata": {},
     "output_type": "execute_result"
    }
   ],
   "source": [
    "score = []\n",
    "for item in matrix.columns.tolist():\n",
    "    score.append(calc_score_norm(user, item, sim_matrix_norm, user_ratings))\n",
    "\n",
    "preds = pd.DataFrame({'item': matrix.columns.tolist(), 'score': score})\n",
    "preds.sort_values(by='score', ascending=False).head()"
   ]
  }
 ],
 "metadata": {
  "kernelspec": {
   "display_name": "Python 3",
   "language": "python",
   "name": "python3"
  },
  "language_info": {
   "codemirror_mode": {
    "name": "ipython",
    "version": 3
   },
   "file_extension": ".py",
   "mimetype": "text/x-python",
   "name": "python",
   "nbconvert_exporter": "python",
   "pygments_lexer": "ipython3",
   "version": "3.6.3"
  }
 },
 "nbformat": 4,
 "nbformat_minor": 2
}
