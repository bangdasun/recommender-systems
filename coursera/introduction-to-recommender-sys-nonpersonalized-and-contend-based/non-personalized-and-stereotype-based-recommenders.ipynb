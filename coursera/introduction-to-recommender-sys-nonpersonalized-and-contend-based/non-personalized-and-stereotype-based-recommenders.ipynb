{
 "cells": [
  {
   "cell_type": "markdown",
   "metadata": {
    "collapsed": true
   },
   "source": [
    "### Non-Personalized and Stereotype-Based Recommenders\n",
    "\n",
    "This notebook is an exercise for non-personalized and stereotyped recommendations. Personalized level is one of the analyical dimensions for recommender systems. Non-personalized recommenders is a **generic** method which means that \"everyone receives same recommendations\". Statistically speaking it related with summary statistics. \n",
    "\n",
    "This method is usually used in hotels, restaurants rating. For example \"best seller\", \"most popular\", \"trending hot\", which shows \"best-liked\" one. It could achieve nice results when personalized recommendations are impossible (cold start for instance). Also sometimes it could do weak-personalizations, like add `age` or `zipcode` features.\n",
    "\n",
    "Computing process is simple and fast, we can use metrics like **average ratings**, **popularity**, **proportion of liking** and we can compute use **frequency**, **average** or more complicated methods (normalized, damped mean). In a word, we calculate aggregate preference for prediction, rank items for recommendations."
   ]
  },
  {
   "cell_type": "code",
   "execution_count": 1,
   "metadata": {
    "collapsed": true
   },
   "outputs": [],
   "source": [
    "import numpy as np\n",
    "import pandas as pd"
   ]
  },
  {
   "cell_type": "markdown",
   "metadata": {},
   "source": [
    "Import movies' rating data, there are 20 users and 20 movies, the numbers are ratings of users to movies, null values means the movies are not seen yet."
   ]
  },
  {
   "cell_type": "code",
   "execution_count": 2,
   "metadata": {},
   "outputs": [
    {
     "data": {
      "text/plain": [
       "(20, 22)"
      ]
     },
     "execution_count": 2,
     "metadata": {},
     "output_type": "execute_result"
    }
   ],
   "source": [
    "movie_ratings = pd.read_csv('HW1-data.csv')\n",
    "movie_ratings.shape"
   ]
  },
  {
   "cell_type": "code",
   "execution_count": 3,
   "metadata": {},
   "outputs": [
    {
     "data": {
      "text/html": [
       "<div>\n",
       "<style>\n",
       "    .dataframe thead tr:only-child th {\n",
       "        text-align: right;\n",
       "    }\n",
       "\n",
       "    .dataframe thead th {\n",
       "        text-align: left;\n",
       "    }\n",
       "\n",
       "    .dataframe tbody tr th {\n",
       "        vertical-align: top;\n",
       "    }\n",
       "</style>\n",
       "<table border=\"1\" class=\"dataframe\">\n",
       "  <thead>\n",
       "    <tr style=\"text-align: right;\">\n",
       "      <th></th>\n",
       "      <th>User</th>\n",
       "      <th>Gender (1 =F, 0=M)</th>\n",
       "      <th>260: Star Wars: Episode IV - A New Hope (1977)</th>\n",
       "      <th>1210: Star Wars: Episode VI - Return of the Jedi (1983)</th>\n",
       "      <th>356: Forrest Gump (1994)</th>\n",
       "      <th>318: Shawshank Redemption, The (1994)</th>\n",
       "      <th>593: Silence of the Lambs, The (1991)</th>\n",
       "      <th>3578: Gladiator (2000)</th>\n",
       "      <th>1: Toy Story (1995)</th>\n",
       "      <th>2028: Saving Private Ryan (1998)</th>\n",
       "      <th>...</th>\n",
       "      <th>2396: Shakespeare in Love (1998)</th>\n",
       "      <th>2916: Total Recall (1990)</th>\n",
       "      <th>780: Independence Day (ID4) (1996)</th>\n",
       "      <th>541: Blade Runner (1982)</th>\n",
       "      <th>1265: Groundhog Day (1993)</th>\n",
       "      <th>2571: Matrix, The (1999)</th>\n",
       "      <th>527: Schindler's List (1993)</th>\n",
       "      <th>2762: Sixth Sense, The (1999)</th>\n",
       "      <th>1198: Raiders of the Lost Ark (1981)</th>\n",
       "      <th>34: Babe (1995)</th>\n",
       "    </tr>\n",
       "  </thead>\n",
       "  <tbody>\n",
       "    <tr>\n",
       "      <th>0</th>\n",
       "      <td>755</td>\n",
       "      <td>0</td>\n",
       "      <td>1.0</td>\n",
       "      <td>5.0</td>\n",
       "      <td>2.0</td>\n",
       "      <td>NaN</td>\n",
       "      <td>4.0</td>\n",
       "      <td>4.0</td>\n",
       "      <td>2.0</td>\n",
       "      <td>2.0</td>\n",
       "      <td>...</td>\n",
       "      <td>2.0</td>\n",
       "      <td>NaN</td>\n",
       "      <td>5.0</td>\n",
       "      <td>2.0</td>\n",
       "      <td>NaN</td>\n",
       "      <td>4.0</td>\n",
       "      <td>2.0</td>\n",
       "      <td>5.0</td>\n",
       "      <td>NaN</td>\n",
       "      <td>NaN</td>\n",
       "    </tr>\n",
       "    <tr>\n",
       "      <th>1</th>\n",
       "      <td>5277</td>\n",
       "      <td>0</td>\n",
       "      <td>5.0</td>\n",
       "      <td>3.0</td>\n",
       "      <td>NaN</td>\n",
       "      <td>2.0</td>\n",
       "      <td>4.0</td>\n",
       "      <td>2.0</td>\n",
       "      <td>1.0</td>\n",
       "      <td>NaN</td>\n",
       "      <td>...</td>\n",
       "      <td>3.0</td>\n",
       "      <td>2.0</td>\n",
       "      <td>2.0</td>\n",
       "      <td>NaN</td>\n",
       "      <td>2.0</td>\n",
       "      <td>NaN</td>\n",
       "      <td>5.0</td>\n",
       "      <td>1.0</td>\n",
       "      <td>3.0</td>\n",
       "      <td>NaN</td>\n",
       "    </tr>\n",
       "    <tr>\n",
       "      <th>2</th>\n",
       "      <td>1577</td>\n",
       "      <td>1</td>\n",
       "      <td>NaN</td>\n",
       "      <td>NaN</td>\n",
       "      <td>NaN</td>\n",
       "      <td>5.0</td>\n",
       "      <td>2.0</td>\n",
       "      <td>NaN</td>\n",
       "      <td>4.0</td>\n",
       "      <td>NaN</td>\n",
       "      <td>...</td>\n",
       "      <td>NaN</td>\n",
       "      <td>1.0</td>\n",
       "      <td>4.0</td>\n",
       "      <td>4.0</td>\n",
       "      <td>1.0</td>\n",
       "      <td>1.0</td>\n",
       "      <td>2.0</td>\n",
       "      <td>3.0</td>\n",
       "      <td>1.0</td>\n",
       "      <td>3.0</td>\n",
       "    </tr>\n",
       "  </tbody>\n",
       "</table>\n",
       "<p>3 rows × 22 columns</p>\n",
       "</div>"
      ],
      "text/plain": [
       "   User  Gender (1 =F, 0=M)  260: Star Wars: Episode IV - A New Hope (1977)  \\\n",
       "0   755                   0                                             1.0   \n",
       "1  5277                   0                                             5.0   \n",
       "2  1577                   1                                             NaN   \n",
       "\n",
       "   1210: Star Wars: Episode VI - Return of the Jedi (1983)  \\\n",
       "0                                                5.0         \n",
       "1                                                3.0         \n",
       "2                                                NaN         \n",
       "\n",
       "   356: Forrest Gump (1994)  318: Shawshank Redemption, The (1994)  \\\n",
       "0                       2.0                                    NaN   \n",
       "1                       NaN                                    2.0   \n",
       "2                       NaN                                    5.0   \n",
       "\n",
       "   593: Silence of the Lambs, The (1991)  3578: Gladiator (2000)  \\\n",
       "0                                    4.0                     4.0   \n",
       "1                                    4.0                     2.0   \n",
       "2                                    2.0                     NaN   \n",
       "\n",
       "   1: Toy Story (1995)  2028: Saving Private Ryan (1998)       ...         \\\n",
       "0                  2.0                               2.0       ...          \n",
       "1                  1.0                               NaN       ...          \n",
       "2                  4.0                               NaN       ...          \n",
       "\n",
       "   2396: Shakespeare in Love (1998)  2916: Total Recall (1990)  \\\n",
       "0                               2.0                        NaN   \n",
       "1                               3.0                        2.0   \n",
       "2                               NaN                        1.0   \n",
       "\n",
       "   780: Independence Day (ID4) (1996)  541: Blade Runner (1982)  \\\n",
       "0                                 5.0                       2.0   \n",
       "1                                 2.0                       NaN   \n",
       "2                                 4.0                       4.0   \n",
       "\n",
       "   1265: Groundhog Day (1993)  2571: Matrix, The (1999)  \\\n",
       "0                         NaN                       4.0   \n",
       "1                         2.0                       NaN   \n",
       "2                         1.0                       1.0   \n",
       "\n",
       "   527: Schindler's List (1993)  2762: Sixth Sense, The (1999)  \\\n",
       "0                           2.0                            5.0   \n",
       "1                           5.0                            1.0   \n",
       "2                           2.0                            3.0   \n",
       "\n",
       "   1198: Raiders of the Lost Ark (1981)  34: Babe (1995)  \n",
       "0                                   NaN              NaN  \n",
       "1                                   3.0              NaN  \n",
       "2                                   1.0              3.0  \n",
       "\n",
       "[3 rows x 22 columns]"
      ]
     },
     "execution_count": 3,
     "metadata": {},
     "output_type": "execute_result"
    }
   ],
   "source": [
    "movie_ratings.head(3)"
   ]
  },
  {
   "cell_type": "code",
   "execution_count": 4,
   "metadata": {
    "collapsed": true
   },
   "outputs": [],
   "source": [
    "movie_start_idx = 2"
   ]
  },
  {
   "cell_type": "markdown",
   "metadata": {},
   "source": [
    "#### 1. Top movies by mean rating\n",
    "\n",
    "Calculate average rating directly."
   ]
  },
  {
   "cell_type": "code",
   "execution_count": 5,
   "metadata": {},
   "outputs": [
    {
     "data": {
      "text/plain": [
       "318: Shawshank Redemption, The (1994)                      3.600000\n",
       "260: Star Wars: Episode IV - A New Hope (1977)             3.266667\n",
       "541: Blade Runner (1982)                                   3.222222\n",
       "1265: Groundhog Day (1993)                                 3.166667\n",
       "593: Silence of the Lambs, The (1991)                      3.062500\n",
       "296: Pulp Fiction (1994)                                   3.000000\n",
       "1210: Star Wars: Episode VI - Return of the Jedi (1983)    3.000000\n",
       "2028: Saving Private Ryan (1998)                           3.000000\n",
       "34: Babe (1995)                                            3.000000\n",
       "527: Schindler's List (1993)                               3.000000\n",
       "3578: Gladiator (2000)                                     2.916667\n",
       "2396: Shakespeare in Love (1998)                           2.909091\n",
       "1198: Raiders of the Lost Ark (1981)                       2.909091\n",
       "2571: Matrix, The (1999)                                   2.833333\n",
       "2762: Sixth Sense, The (1999)                              2.833333\n",
       "1: Toy Story (1995)                                        2.823529\n",
       "780: Independence Day (ID4) (1996)                         2.769231\n",
       "356: Forrest Gump (1994)                                   2.700000\n",
       "1259: Stand by Me (1986)                                   2.636364\n",
       "2916: Total Recall (1990)                                  1.916667\n",
       "dtype: float64"
      ]
     },
     "execution_count": 5,
     "metadata": {},
     "output_type": "execute_result"
    }
   ],
   "source": [
    "# calculate the mean rating for each movie\n",
    "movie_ratings.iloc[:, movie_start_idx:].mean(skipna=True).sort_values(ascending=False)"
   ]
  },
  {
   "cell_type": "markdown",
   "metadata": {},
   "source": [
    "#### 2. Top movies by count\n",
    "\n",
    "Calculate count directly."
   ]
  },
  {
   "cell_type": "code",
   "execution_count": 6,
   "metadata": {},
   "outputs": [
    {
     "data": {
      "text/plain": [
       "1: Toy Story (1995)                                        17\n",
       "593: Silence of the Lambs, The (1991)                      16\n",
       "260: Star Wars: Episode IV - A New Hope (1977)             15\n",
       "1210: Star Wars: Episode VI - Return of the Jedi (1983)    14\n",
       "780: Independence Day (ID4) (1996)                         13\n",
       "2762: Sixth Sense, The (1999)                              12\n",
       "527: Schindler's List (1993)                               12\n",
       "2571: Matrix, The (1999)                                   12\n",
       "1265: Groundhog Day (1993)                                 12\n",
       "2916: Total Recall (1990)                                  12\n",
       "3578: Gladiator (2000)                                     12\n",
       "2028: Saving Private Ryan (1998)                           11\n",
       "1259: Stand by Me (1986)                                   11\n",
       "296: Pulp Fiction (1994)                                   11\n",
       "1198: Raiders of the Lost Ark (1981)                       11\n",
       "2396: Shakespeare in Love (1998)                           11\n",
       "318: Shawshank Redemption, The (1994)                      10\n",
       "356: Forrest Gump (1994)                                   10\n",
       "34: Babe (1995)                                            10\n",
       "541: Blade Runner (1982)                                    9\n",
       "dtype: int64"
      ]
     },
     "execution_count": 6,
     "metadata": {},
     "output_type": "execute_result"
    }
   ],
   "source": [
    "# count the number of ratings for each movie\n",
    "movie_ratings.iloc[:, movie_start_idx:].notnull().sum().sort_values(ascending=False)"
   ]
  },
  {
   "cell_type": "markdown",
   "metadata": {},
   "source": [
    "#### 3. Top movies by percent liking\n",
    "\n",
    "Set `rating=4` as a threshold, higher than 4 means \"like it\"."
   ]
  },
  {
   "cell_type": "code",
   "execution_count": 7,
   "metadata": {
    "scrolled": false
   },
   "outputs": [
    {
     "data": {
      "text/plain": [
       "318: Shawshank Redemption, The (1994)                      0.700000\n",
       "260: Star Wars: Episode IV - A New Hope (1977)             0.533333\n",
       "3578: Gladiator (2000)                                     0.500000\n",
       "541: Blade Runner (1982)                                   0.444444\n",
       "593: Silence of the Lambs, The (1991)                      0.437500\n",
       "2571: Matrix, The (1999)                                   0.416667\n",
       "1265: Groundhog Day (1993)                                 0.416667\n",
       "34: Babe (1995)                                            0.400000\n",
       "296: Pulp Fiction (1994)                                   0.363636\n",
       "2028: Saving Private Ryan (1998)                           0.363636\n",
       "1259: Stand by Me (1986)                                   0.363636\n",
       "1210: Star Wars: Episode VI - Return of the Jedi (1983)    0.357143\n",
       "1: Toy Story (1995)                                        0.352941\n",
       "527: Schindler's List (1993)                               0.333333\n",
       "2762: Sixth Sense, The (1999)                              0.333333\n",
       "780: Independence Day (ID4) (1996)                         0.307692\n",
       "356: Forrest Gump (1994)                                   0.300000\n",
       "2396: Shakespeare in Love (1998)                           0.272727\n",
       "1198: Raiders of the Lost Ark (1981)                       0.272727\n",
       "2916: Total Recall (1990)                                  0.083333\n",
       "dtype: float64"
      ]
     },
     "execution_count": 7,
     "metadata": {},
     "output_type": "execute_result"
    }
   ],
   "source": [
    "((movie_ratings.iloc[:, movie_start_idx:] >= 4).sum() / \\\n",
    "movie_ratings.iloc[:, movie_start_idx:].notnull().sum()) \\\n",
    ".sort_values(ascending=False)"
   ]
  },
  {
   "cell_type": "markdown",
   "metadata": {},
   "source": [
    "#### 4. Association with Toy Story\n",
    "\n",
    "Find associations with movie \"Toy Story\": calculate movies that most often occur with it. Using `count(x ^ y) / count(x)`. In other words, for each movie, calculate the percentage of raters who also rated \"Toy Story\"."
   ]
  },
  {
   "cell_type": "code",
   "execution_count": 8,
   "metadata": {},
   "outputs": [
    {
     "name": "stdout",
     "output_type": "stream",
     "text": [
      "(array([8], dtype=int64),)\n"
     ]
    }
   ],
   "source": [
    "# column index of #1: Toy Story\n",
    "print(np.where(pd.Series(movie_ratings.columns.tolist()).str.contains('Toy Story')))"
   ]
  },
  {
   "cell_type": "code",
   "execution_count": 9,
   "metadata": {},
   "outputs": [
    {
     "data": {
      "text/plain": [
       "260: Star Wars: Episode IV - A New Hope (1977)             0.823529\n",
       "1210: Star Wars: Episode VI - Return of the Jedi (1983)    0.764706\n",
       "593: Silence of the Lambs, The (1991)                      0.764706\n",
       "780: Independence Day (ID4) (1996)                         0.764706\n",
       "1265: Groundhog Day (1993)                                 0.647059\n",
       "2916: Total Recall (1990)                                  0.647059\n",
       "296: Pulp Fiction (1994)                                   0.588235\n",
       "2762: Sixth Sense, The (1999)                              0.588235\n",
       "527: Schindler's List (1993)                               0.588235\n",
       "3578: Gladiator (2000)                                     0.529412\n",
       "1259: Stand by Me (1986)                                   0.529412\n",
       "1198: Raiders of the Lost Ark (1981)                       0.529412\n",
       "2571: Matrix, The (1999)                                   0.529412\n",
       "2028: Saving Private Ryan (1998)                           0.470588\n",
       "2396: Shakespeare in Love (1998)                           0.470588\n",
       "318: Shawshank Redemption, The (1994)                      0.470588\n",
       "34: Babe (1995)                                            0.470588\n",
       "541: Blade Runner (1982)                                   0.411765\n",
       "356: Forrest Gump (1994)                                   0.411765\n",
       "dtype: float64"
      ]
     },
     "execution_count": 9,
     "metadata": {},
     "output_type": "execute_result"
    }
   ],
   "source": [
    "# user who watched #1: Toy Story\n",
    "toyStory_users = movie_ratings.iloc[:, 8].notnull()\n",
    "# top association with #1: Toy Story\n",
    "(movie_ratings.loc[toyStory_users].iloc[:, movie_start_idx:].notnull().sum() \\\n",
    " / np.sum(toyStory_users)).sort_values(ascending=False)[1:]"
   ]
  },
  {
   "cell_type": "markdown",
   "metadata": {},
   "source": [
    "#### 5. Correlation with Toy Story"
   ]
  },
  {
   "cell_type": "code",
   "execution_count": 10,
   "metadata": {},
   "outputs": [
    {
     "data": {
      "text/plain": [
       "318: Shawshank Redemption, The (1994)                      0.888523\n",
       "34: Babe (1995)                                            0.811107\n",
       "296: Pulp Fiction (1994)                                   0.709842\n",
       "2028: Saving Private Ryan (1998)                           0.596849\n",
       "356: Forrest Gump (1994)                                   0.522913\n",
       "541: Blade Runner (1982)                                   0.329634\n",
       "3578: Gladiator (2000)                                     0.253396\n",
       "2916: Total Recall (1990)                                  0.163796\n",
       "2396: Shakespeare in Love (1998)                           0.101768\n",
       "1265: Groundhog Day (1993)                                -0.062858\n",
       "780: Independence Day (ID4) (1996)                        -0.069923\n",
       "260: Star Wars: Episode IV - A New Hope (1977)            -0.119005\n",
       "527: Schindler's List (1993)                              -0.220315\n",
       "2762: Sixth Sense, The (1999)                             -0.245770\n",
       "1198: Raiders of the Lost Ark (1981)                      -0.309067\n",
       "1210: Star Wars: Episode VI - Return of the Jedi (1983)   -0.314504\n",
       "593: Silence of the Lambs, The (1991)                     -0.568258\n",
       "1259: Stand by Me (1986)                                  -0.610300\n",
       "2571: Matrix, The (1999)                                  -0.721995\n",
       "Name: 1: Toy Story (1995), dtype: float64"
      ]
     },
     "execution_count": 10,
     "metadata": {},
     "output_type": "execute_result"
    }
   ],
   "source": [
    "# ratings correlation with Toy Story\n",
    "movie_ratings.iloc[:, movie_start_idx:].corr().iloc[:, 6].sort_values(ascending=False)[1:]"
   ]
  },
  {
   "cell_type": "markdown",
   "metadata": {},
   "source": [
    "#### 6. Male-Female differeces in average rating"
   ]
  },
  {
   "cell_type": "code",
   "execution_count": 11,
   "metadata": {
    "collapsed": true
   },
   "outputs": [],
   "source": [
    "# gender index\n",
    "male_idx = movie_ratings.iloc[:, 1] == 0\n",
    "female_idx = movie_ratings.iloc[:, 1] == 1"
   ]
  },
  {
   "cell_type": "code",
   "execution_count": 12,
   "metadata": {},
   "outputs": [
    {
     "data": {
      "text/plain": [
       "260: Star Wars: Episode IV - A New Hope (1977)             3.125000\n",
       "1210: Star Wars: Episode VI - Return of the Jedi (1983)    3.000000\n",
       "356: Forrest Gump (1994)                                   2.250000\n",
       "318: Shawshank Redemption, The (1994)                      3.400000\n",
       "593: Silence of the Lambs, The (1991)                      3.333333\n",
       "3578: Gladiator (2000)                                     2.833333\n",
       "1: Toy Story (1995)                                        2.300000\n",
       "2028: Saving Private Ryan (1998)                           3.142857\n",
       "296: Pulp Fiction (1994)                                   2.625000\n",
       "1259: Stand by Me (1986)                                   3.000000\n",
       "2396: Shakespeare in Love (1998)                           2.142857\n",
       "2916: Total Recall (1990)                                  2.200000\n",
       "780: Independence Day (ID4) (1996)                         2.857143\n",
       "541: Blade Runner (1982)                                   3.000000\n",
       "1265: Groundhog Day (1993)                                 3.500000\n",
       "2571: Matrix, The (1999)                                   3.142857\n",
       "527: Schindler's List (1993)                               3.500000\n",
       "2762: Sixth Sense, The (1999)                              2.666667\n",
       "1198: Raiders of the Lost Ark (1981)                       3.666667\n",
       "34: Babe (1995)                                            2.000000\n",
       "dtype: float64"
      ]
     },
     "execution_count": 12,
     "metadata": {},
     "output_type": "execute_result"
    }
   ],
   "source": [
    "# male ratings\n",
    "male_ratings = movie_ratings.loc[male_idx].iloc[:, movie_start_idx:].mean(skipna=True)\n",
    "male_ratings"
   ]
  },
  {
   "cell_type": "code",
   "execution_count": 13,
   "metadata": {},
   "outputs": [
    {
     "data": {
      "text/plain": [
       "260: Star Wars: Episode IV - A New Hope (1977)             3.428571\n",
       "1210: Star Wars: Episode VI - Return of the Jedi (1983)    3.000000\n",
       "356: Forrest Gump (1994)                                   3.000000\n",
       "318: Shawshank Redemption, The (1994)                      3.800000\n",
       "593: Silence of the Lambs, The (1991)                      2.714286\n",
       "3578: Gladiator (2000)                                     3.000000\n",
       "1: Toy Story (1995)                                        3.571429\n",
       "2028: Saving Private Ryan (1998)                           2.750000\n",
       "296: Pulp Fiction (1994)                                   4.000000\n",
       "1259: Stand by Me (1986)                                   2.428571\n",
       "2396: Shakespeare in Love (1998)                           4.250000\n",
       "2916: Total Recall (1990)                                  1.714286\n",
       "780: Independence Day (ID4) (1996)                         2.666667\n",
       "541: Blade Runner (1982)                                   3.500000\n",
       "1265: Groundhog Day (1993)                                 2.833333\n",
       "2571: Matrix, The (1999)                                   2.400000\n",
       "527: Schindler's List (1993)                               2.500000\n",
       "2762: Sixth Sense, The (1999)                              3.000000\n",
       "1198: Raiders of the Lost Ark (1981)                       2.000000\n",
       "34: Babe (1995)                                            3.428571\n",
       "dtype: float64"
      ]
     },
     "execution_count": 13,
     "metadata": {},
     "output_type": "execute_result"
    }
   ],
   "source": [
    "# female ratings\n",
    "female_ratings = movie_ratings.loc[female_idx].iloc[:, movie_start_idx:].mean(skipna=True)\n",
    "female_ratings"
   ]
  },
  {
   "cell_type": "code",
   "execution_count": 14,
   "metadata": {},
   "outputs": [
    {
     "data": {
      "text/plain": [
       "1198: Raiders of the Lost Ark (1981)                       1.666667\n",
       "527: Schindler's List (1993)                               1.000000\n",
       "2571: Matrix, The (1999)                                   0.742857\n",
       "1265: Groundhog Day (1993)                                 0.666667\n",
       "593: Silence of the Lambs, The (1991)                      0.619048\n",
       "1259: Stand by Me (1986)                                   0.571429\n",
       "2916: Total Recall (1990)                                  0.485714\n",
       "2028: Saving Private Ryan (1998)                           0.392857\n",
       "780: Independence Day (ID4) (1996)                         0.190476\n",
       "1210: Star Wars: Episode VI - Return of the Jedi (1983)    0.000000\n",
       "3578: Gladiator (2000)                                    -0.166667\n",
       "260: Star Wars: Episode IV - A New Hope (1977)            -0.303571\n",
       "2762: Sixth Sense, The (1999)                             -0.333333\n",
       "318: Shawshank Redemption, The (1994)                     -0.400000\n",
       "541: Blade Runner (1982)                                  -0.500000\n",
       "356: Forrest Gump (1994)                                  -0.750000\n",
       "1: Toy Story (1995)                                       -1.271429\n",
       "296: Pulp Fiction (1994)                                  -1.375000\n",
       "34: Babe (1995)                                           -1.428571\n",
       "2396: Shakespeare in Love (1998)                          -2.107143\n",
       "dtype: float64"
      ]
     },
     "execution_count": 14,
     "metadata": {},
     "output_type": "execute_result"
    }
   ],
   "source": [
    "(male_ratings - female_ratings).sort_values(ascending=False)"
   ]
  },
  {
   "cell_type": "code",
   "execution_count": 15,
   "metadata": {},
   "outputs": [
    {
     "data": {
      "text/plain": [
       "2.905511811023622"
      ]
     },
     "execution_count": 15,
     "metadata": {},
     "output_type": "execute_result"
    }
   ],
   "source": [
    "# male overall ratings\n",
    "male_overall_ratings = \\\n",
    "movie_ratings.loc[male_idx].iloc[:, movie_start_idx:].sum().sum() / \\\n",
    "movie_ratings.loc[male_idx].iloc[:, movie_start_idx:].notnull().sum().sum()\n",
    "\n",
    "male_overall_ratings"
   ]
  },
  {
   "cell_type": "code",
   "execution_count": 16,
   "metadata": {},
   "outputs": [
    {
     "data": {
      "text/plain": [
       "2.9473684210526314"
      ]
     },
     "execution_count": 16,
     "metadata": {},
     "output_type": "execute_result"
    }
   ],
   "source": [
    "# female overall ratings\n",
    "female_overall_ratings = \\\n",
    "movie_ratings.loc[female_idx].iloc[:, movie_start_idx:].sum().sum() / \\\n",
    "movie_ratings.loc[female_idx].iloc[:, movie_start_idx:].notnull().sum().sum()\n",
    "\n",
    "female_overall_ratings"
   ]
  },
  {
   "cell_type": "code",
   "execution_count": 17,
   "metadata": {},
   "outputs": [
    {
     "data": {
      "text/plain": [
       "0.0418566100290092"
      ]
     },
     "execution_count": 17,
     "metadata": {},
     "output_type": "execute_result"
    }
   ],
   "source": [
    "female_overall_ratings - male_overall_ratings"
   ]
  },
  {
   "cell_type": "markdown",
   "metadata": {},
   "source": [
    "#### 7. Male-Female differences in liking"
   ]
  },
  {
   "cell_type": "code",
   "execution_count": 18,
   "metadata": {},
   "outputs": [
    {
     "data": {
      "text/plain": [
       "260: Star Wars: Episode IV - A New Hope (1977)             0.500000\n",
       "1210: Star Wars: Episode VI - Return of the Jedi (1983)    0.250000\n",
       "356: Forrest Gump (1994)                                   0.000000\n",
       "318: Shawshank Redemption, The (1994)                      0.600000\n",
       "593: Silence of the Lambs, The (1991)                      0.555556\n",
       "3578: Gladiator (2000)                                     0.500000\n",
       "1: Toy Story (1995)                                        0.200000\n",
       "2028: Saving Private Ryan (1998)                           0.285714\n",
       "296: Pulp Fiction (1994)                                   0.250000\n",
       "1259: Stand by Me (1986)                                   0.250000\n",
       "2396: Shakespeare in Love (1998)                           0.000000\n",
       "2916: Total Recall (1990)                                  0.200000\n",
       "780: Independence Day (ID4) (1996)                         0.285714\n",
       "541: Blade Runner (1982)                                   0.200000\n",
       "1265: Groundhog Day (1993)                                 0.500000\n",
       "2571: Matrix, The (1999)                                   0.571429\n",
       "527: Schindler's List (1993)                               0.500000\n",
       "2762: Sixth Sense, The (1999)                              0.333333\n",
       "1198: Raiders of the Lost Ark (1981)                       0.500000\n",
       "34: Babe (1995)                                            0.000000\n",
       "dtype: float64"
      ]
     },
     "execution_count": 18,
     "metadata": {},
     "output_type": "execute_result"
    }
   ],
   "source": [
    "# male percentages\n",
    "male_percentages = \\\n",
    "(movie_ratings.loc[male_idx].iloc[:, movie_start_idx:] >= 4).sum() / \\\n",
    "movie_ratings.loc[male_idx].iloc[:, movie_start_idx:].notnull().sum()\n",
    "\n",
    "male_percentages"
   ]
  },
  {
   "cell_type": "code",
   "execution_count": 19,
   "metadata": {},
   "outputs": [
    {
     "data": {
      "text/plain": [
       "260: Star Wars: Episode IV - A New Hope (1977)             0.571429\n",
       "1210: Star Wars: Episode VI - Return of the Jedi (1983)    0.500000\n",
       "356: Forrest Gump (1994)                                   0.500000\n",
       "318: Shawshank Redemption, The (1994)                      0.800000\n",
       "593: Silence of the Lambs, The (1991)                      0.285714\n",
       "3578: Gladiator (2000)                                     0.500000\n",
       "1: Toy Story (1995)                                        0.571429\n",
       "2028: Saving Private Ryan (1998)                           0.500000\n",
       "296: Pulp Fiction (1994)                                   0.666667\n",
       "1259: Stand by Me (1986)                                   0.428571\n",
       "2396: Shakespeare in Love (1998)                           0.750000\n",
       "2916: Total Recall (1990)                                  0.000000\n",
       "780: Independence Day (ID4) (1996)                         0.333333\n",
       "541: Blade Runner (1982)                                   0.750000\n",
       "1265: Groundhog Day (1993)                                 0.333333\n",
       "2571: Matrix, The (1999)                                   0.200000\n",
       "527: Schindler's List (1993)                               0.166667\n",
       "2762: Sixth Sense, The (1999)                              0.333333\n",
       "1198: Raiders of the Lost Ark (1981)                       0.000000\n",
       "34: Babe (1995)                                            0.571429\n",
       "dtype: float64"
      ]
     },
     "execution_count": 19,
     "metadata": {},
     "output_type": "execute_result"
    }
   ],
   "source": [
    "# female percentages\n",
    "female_percentages = \\\n",
    "(movie_ratings.loc[female_idx].iloc[:, movie_start_idx:] >= 4).sum() / \\\n",
    "movie_ratings.loc[female_idx].iloc[:, movie_start_idx:].notnull().sum()\n",
    "\n",
    "female_percentages"
   ]
  },
  {
   "cell_type": "code",
   "execution_count": 20,
   "metadata": {},
   "outputs": [
    {
     "data": {
      "text/plain": [
       "1198: Raiders of the Lost Ark (1981)                       0.500000\n",
       "2571: Matrix, The (1999)                                   0.371429\n",
       "527: Schindler's List (1993)                               0.333333\n",
       "593: Silence of the Lambs, The (1991)                      0.269841\n",
       "2916: Total Recall (1990)                                  0.200000\n",
       "1265: Groundhog Day (1993)                                 0.166667\n",
       "2762: Sixth Sense, The (1999)                              0.000000\n",
       "3578: Gladiator (2000)                                     0.000000\n",
       "780: Independence Day (ID4) (1996)                        -0.047619\n",
       "260: Star Wars: Episode IV - A New Hope (1977)            -0.071429\n",
       "1259: Stand by Me (1986)                                  -0.178571\n",
       "318: Shawshank Redemption, The (1994)                     -0.200000\n",
       "2028: Saving Private Ryan (1998)                          -0.214286\n",
       "1210: Star Wars: Episode VI - Return of the Jedi (1983)   -0.250000\n",
       "1: Toy Story (1995)                                       -0.371429\n",
       "296: Pulp Fiction (1994)                                  -0.416667\n",
       "356: Forrest Gump (1994)                                  -0.500000\n",
       "541: Blade Runner (1982)                                  -0.550000\n",
       "34: Babe (1995)                                           -0.571429\n",
       "2396: Shakespeare in Love (1998)                          -0.750000\n",
       "dtype: float64"
      ]
     },
     "execution_count": 20,
     "metadata": {},
     "output_type": "execute_result"
    }
   ],
   "source": [
    "(male_percentages - female_percentages).sort_values(ascending=False)"
   ]
  },
  {
   "cell_type": "code",
   "execution_count": 21,
   "metadata": {},
   "outputs": [
    {
     "data": {
      "text/plain": [
       "0.33858267716535434"
      ]
     },
     "execution_count": 21,
     "metadata": {},
     "output_type": "execute_result"
    }
   ],
   "source": [
    "# male overall percentages\n",
    "male_overall_percentages = \\\n",
    "(movie_ratings.loc[male_idx].iloc[:, movie_start_idx:] >= 4).sum().sum() / \\\n",
    "movie_ratings.loc[male_idx].iloc[:, movie_start_idx:].notnull().sum().sum()\n",
    "\n",
    "male_overall_percentages"
   ]
  },
  {
   "cell_type": "code",
   "execution_count": 22,
   "metadata": {},
   "outputs": [
    {
     "data": {
      "text/plain": [
       "0.42105263157894735"
      ]
     },
     "execution_count": 22,
     "metadata": {},
     "output_type": "execute_result"
    }
   ],
   "source": [
    "# female overall percentages\n",
    "female_overall_percentages = \\\n",
    "(movie_ratings.loc[female_idx].iloc[:, movie_start_idx:] >= 4).sum().sum() / \\\n",
    "movie_ratings.loc[female_idx].iloc[:, movie_start_idx:].notnull().sum().sum()\n",
    "\n",
    "female_overall_percentages"
   ]
  },
  {
   "cell_type": "code",
   "execution_count": 23,
   "metadata": {},
   "outputs": [
    {
     "data": {
      "text/plain": [
       "0.082469954413593"
      ]
     },
     "execution_count": 23,
     "metadata": {},
     "output_type": "execute_result"
    }
   ],
   "source": [
    "female_overall_percentages - male_overall_percentages"
   ]
  }
 ],
 "metadata": {
  "kernelspec": {
   "display_name": "Python 3",
   "language": "python",
   "name": "python3"
  },
  "language_info": {
   "codemirror_mode": {
    "name": "ipython",
    "version": 3
   },
   "file_extension": ".py",
   "mimetype": "text/x-python",
   "name": "python",
   "nbconvert_exporter": "python",
   "pygments_lexer": "ipython3",
   "version": "3.6.3"
  }
 },
 "nbformat": 4,
 "nbformat_minor": 2
}
