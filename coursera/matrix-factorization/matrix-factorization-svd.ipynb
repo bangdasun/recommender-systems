{
 "cells": [
  {
   "cell_type": "markdown",
   "metadata": {},
   "source": [
    "### Matrix Factorization and Dimension Reducation Techniques\n",
    "\n",
    "This notebook is the exercise for matrix factorization methods (SVD) used in recommender system. \n",
    "\n",
    "Again we start from the rating matrix. Large rating matrix is an overfit representation of user tastes and item descriptions:\n",
    "\n",
    "* leads to problems of synonymy\n",
    "* leads to computational complexity, potentially poor results\n",
    "\n",
    "An ideal alternative would be to have a more compact representation of user tastes and item descriptions.\n",
    "\n",
    "SVD (Singular Value Decomposition) is a popular matrix decomposition method. In information retrieveal community had same issue and addressed this: key word vectors had problem that queries and documents were poorly represented, they want \"concepts\" rather than \"words\". And SVD can reduce space to a smaller taste space that is compact and robust.\n",
    "\n",
    "<img src=\"./svd-matrices.png\">\n",
    "\n",
    "Here we have the rating matrix \\\\(R\\\\) with \\\\(m\\\\) users and \\\\(n\\\\) items, we can factorize it\n",
    "\n",
    "$$R = P\\Sigma Q^\\top,$$\n",
    "\n",
    "where the rating matrix is decomposited as multiplication of \\\\(P\\\\) - user - feature affinity matrix, \\\\(\\Sigma\\\\) - feature weight matrix and \\\\(Q\\\\) - item - feature relevance matrix. And \\\\(P\\\\) and \\\\(Q\\\\) are orthogonal if the SVD is done correctly. And this decomposition is exists for any real matrix.\n",
    "\n",
    "By choosing top \\\\(k\\\\) values in \\\\(\\Sigma\\\\), we are using Truncated SVD, and could get the approximation of the raw matrix\n",
    "\n",
    "$$R_{k} = P_{k}\\Sigma_{k} Q^\\top_{k}.$$\n",
    "\n",
    "In this way the dimension is reduced and we get small results, but the exact value of \\\\(k\\\\) need to be exprimented.\n",
    "\n",
    "Then in application, for example predict the rating of a item \\\\(i\\\\) by a user \\\\(u\\\\), pick the **row** vector from \\\\(P\\\\), multiply by matrix \\\\(\\Sigma\\\\), then multiply the **column** vector from \\\\(Q\\\\), the final scalar value is the prediction. And note that this is not same as Content Based Filtering since the rows and columns are not \"interpretable\", it defines a shared vector space. The challenge of SVD is also obvious:\n",
    "\n",
    "* how to deal with missing values\n",
    "* time complexity\n",
    "* lack of explainbility, we call the features to be latent features\n",
    "\n",
    "In real applications, as new data comes, we can use \"data folding-in\". That means using existing factorization to compute the predictions for new data. But this only works if the SVD is algebraically correct, which means \\\\(P\\\\) and \\\\(Q\\\\) are orthogonal. The situation that SVD not \"correct\" is when we use **gradient descent**. I will update this part in future posts."
   ]
  },
  {
   "cell_type": "code",
   "execution_count": 1,
   "metadata": {
    "collapsed": true
   },
   "outputs": [],
   "source": [
    "import numpy as np\n",
    "import pandas as pd"
   ]
  },
  {
   "cell_type": "code",
   "execution_count": 2,
   "metadata": {},
   "outputs": [
    {
     "name": "stdout",
     "output_type": "stream",
     "text": [
      "Number of features = 15\n",
      "Number of users = 25\n",
      "Number of items = 100\n"
     ]
    }
   ],
   "source": [
    "item_vectors = pd.read_excel('Assignment 6.xlsx', sheet_name='Items')\n",
    "user_vectors = pd.read_excel('Assignment 6.xlsx', sheet_name='Users', index_col='User')\n",
    "\n",
    "singular_val = item_vectors.iloc[0]\n",
    "item_vectors = item_vectors.iloc[2:]\n",
    "print('Number of features = {}'.format(len(singular_val)))\n",
    "print('Number of users = {}'.format(user_vectors.shape[0]))\n",
    "print('Number of items = {}'.format(item_vectors.shape[0]))"
   ]
  },
  {
   "cell_type": "markdown",
   "metadata": {},
   "source": [
    "Get top 5 movies for 1st and 2nd features."
   ]
  },
  {
   "cell_type": "code",
   "execution_count": 3,
   "metadata": {},
   "outputs": [
    {
     "data": {
      "text/html": [
       "<div>\n",
       "<style scoped>\n",
       "    .dataframe tbody tr th:only-of-type {\n",
       "        vertical-align: middle;\n",
       "    }\n",
       "\n",
       "    .dataframe tbody tr th {\n",
       "        vertical-align: top;\n",
       "    }\n",
       "\n",
       "    .dataframe thead th {\n",
       "        text-align: right;\n",
       "    }\n",
       "</style>\n",
       "<table border=\"1\" class=\"dataframe\">\n",
       "  <thead>\n",
       "    <tr style=\"text-align: right;\">\n",
       "      <th></th>\n",
       "      <th></th>\n",
       "      <th>1</th>\n",
       "      <th>2</th>\n",
       "    </tr>\n",
       "  </thead>\n",
       "  <tbody>\n",
       "    <tr>\n",
       "      <th>4327</th>\n",
       "      <th>Charlie's Angels (2000)</th>\n",
       "      <td>0.281990</td>\n",
       "      <td>0.080262</td>\n",
       "    </tr>\n",
       "    <tr>\n",
       "      <th>414</th>\n",
       "      <th>Batman Forever (1995)</th>\n",
       "      <td>0.218089</td>\n",
       "      <td>-0.009324</td>\n",
       "    </tr>\n",
       "    <tr>\n",
       "      <th>3049</th>\n",
       "      <th>Ace Ventura: Pet Detective (1994)</th>\n",
       "      <td>0.190879</td>\n",
       "      <td>0.067747</td>\n",
       "    </tr>\n",
       "    <tr>\n",
       "      <th>8467</th>\n",
       "      <th>Dumb &amp; Dumber (1994)</th>\n",
       "      <td>0.190638</td>\n",
       "      <td>0.110683</td>\n",
       "    </tr>\n",
       "    <tr>\n",
       "      <th>854</th>\n",
       "      <th>The Mask (1994)</th>\n",
       "      <td>0.158601</td>\n",
       "      <td>-0.006160</td>\n",
       "    </tr>\n",
       "  </tbody>\n",
       "</table>\n",
       "</div>"
      ],
      "text/plain": [
       "                                               1         2\n",
       "4327 Charlie's Angels (2000)            0.281990  0.080262\n",
       "414  Batman Forever (1995)              0.218089 -0.009324\n",
       "3049 Ace Ventura: Pet Detective (1994)  0.190879  0.067747\n",
       "8467 Dumb & Dumber (1994)               0.190638  0.110683\n",
       "854  The Mask (1994)                    0.158601 -0.006160"
      ]
     },
     "execution_count": 3,
     "metadata": {},
     "output_type": "execute_result"
    }
   ],
   "source": [
    "item_vectors.iloc[:, :2].sort_values(by=1, ascending=False).head(5)"
   ]
  },
  {
   "cell_type": "code",
   "execution_count": 4,
   "metadata": {},
   "outputs": [
    {
     "data": {
      "text/html": [
       "<div>\n",
       "<style scoped>\n",
       "    .dataframe tbody tr th:only-of-type {\n",
       "        vertical-align: middle;\n",
       "    }\n",
       "\n",
       "    .dataframe tbody tr th {\n",
       "        vertical-align: top;\n",
       "    }\n",
       "\n",
       "    .dataframe thead th {\n",
       "        text-align: right;\n",
       "    }\n",
       "</style>\n",
       "<table border=\"1\" class=\"dataframe\">\n",
       "  <thead>\n",
       "    <tr style=\"text-align: right;\">\n",
       "      <th></th>\n",
       "      <th></th>\n",
       "      <th>1</th>\n",
       "      <th>2</th>\n",
       "    </tr>\n",
       "  </thead>\n",
       "  <tbody>\n",
       "    <tr>\n",
       "      <th>14</th>\n",
       "      <th>American Beauty (1999)</th>\n",
       "      <td>-0.044468</td>\n",
       "      <td>0.198715</td>\n",
       "    </tr>\n",
       "    <tr>\n",
       "      <th>680</th>\n",
       "      <th>Pulp Fiction (1994)</th>\n",
       "      <td>-0.166983</td>\n",
       "      <td>0.189565</td>\n",
       "    </tr>\n",
       "    <tr>\n",
       "      <th>24</th>\n",
       "      <th>Kill Bill: Vol. 1 (2003)</th>\n",
       "      <td>-0.045203</td>\n",
       "      <td>0.181570</td>\n",
       "    </tr>\n",
       "    <tr>\n",
       "      <th>275</th>\n",
       "      <th>Fargo (1996)</th>\n",
       "      <td>-0.043682</td>\n",
       "      <td>0.161559</td>\n",
       "    </tr>\n",
       "    <tr>\n",
       "      <th>38</th>\n",
       "      <th>Eternal Sunshine of the Spotless Mind (2004)</th>\n",
       "      <td>-0.048743</td>\n",
       "      <td>0.161058</td>\n",
       "    </tr>\n",
       "  </tbody>\n",
       "</table>\n",
       "</div>"
      ],
      "text/plain": [
       "                                                         1         2\n",
       "14  American Beauty (1999)                       -0.044468  0.198715\n",
       "680 Pulp Fiction (1994)                          -0.166983  0.189565\n",
       "24  Kill Bill: Vol. 1 (2003)                     -0.045203  0.181570\n",
       "275 Fargo (1996)                                 -0.043682  0.161559\n",
       "38  Eternal Sunshine of the Spotless Mind (2004) -0.048743  0.161058"
      ]
     },
     "execution_count": 4,
     "metadata": {},
     "output_type": "execute_result"
    }
   ],
   "source": [
    "item_vectors.iloc[:, :2].sort_values(by=2, ascending=False).head(5)"
   ]
  },
  {
   "cell_type": "markdown",
   "metadata": {},
   "source": [
    "Make a prediction of user 4469, this is simply matrix multiplication:\n",
    "\n",
    "$$\\hat{r} = \\sum_{f} p_{uf}s_{f}q_{fi}.$$"
   ]
  },
  {
   "cell_type": "code",
   "execution_count": 5,
   "metadata": {},
   "outputs": [
    {
     "data": {
      "text/html": [
       "<div>\n",
       "<style scoped>\n",
       "    .dataframe tbody tr th:only-of-type {\n",
       "        vertical-align: middle;\n",
       "    }\n",
       "\n",
       "    .dataframe tbody tr th {\n",
       "        vertical-align: top;\n",
       "    }\n",
       "\n",
       "    .dataframe thead th {\n",
       "        text-align: right;\n",
       "    }\n",
       "</style>\n",
       "<table border=\"1\" class=\"dataframe\">\n",
       "  <thead>\n",
       "    <tr style=\"text-align: right;\">\n",
       "      <th></th>\n",
       "      <th>rating_preds</th>\n",
       "    </tr>\n",
       "  </thead>\n",
       "  <tbody>\n",
       "    <tr>\n",
       "      <th>278</th>\n",
       "      <td>0.207680</td>\n",
       "    </tr>\n",
       "    <tr>\n",
       "      <th>453</th>\n",
       "      <td>0.183286</td>\n",
       "    </tr>\n",
       "    <tr>\n",
       "      <th>98</th>\n",
       "      <td>0.173611</td>\n",
       "    </tr>\n",
       "    <tr>\n",
       "      <th>238</th>\n",
       "      <td>0.172180</td>\n",
       "    </tr>\n",
       "    <tr>\n",
       "      <th>13</th>\n",
       "      <td>0.170744</td>\n",
       "    </tr>\n",
       "  </tbody>\n",
       "</table>\n",
       "</div>"
      ],
      "text/plain": [
       "     rating_preds\n",
       "278      0.207680\n",
       "453      0.183286\n",
       "98       0.173611\n",
       "238      0.172180\n",
       "13       0.170744"
      ]
     },
     "execution_count": 5,
     "metadata": {},
     "output_type": "execute_result"
    }
   ],
   "source": [
    "user_id = 4469\n",
    "rating_preds = user_vectors.loc[user_id].dot(np.diag(singular_val)).dot(item_vectors.T)\n",
    "rating_preds_df = pd.DataFrame(rating_preds, columns=['rating_preds'])\n",
    "rating_preds_df.index = [item_vectors.index[i][0] for i in range(100)]\n",
    "rating_preds_df.sort_values(by='rating_preds', ascending=False).head(5)"
   ]
  }
 ],
 "metadata": {
  "kernelspec": {
   "display_name": "Python 3",
   "language": "python",
   "name": "python3"
  },
  "language_info": {
   "codemirror_mode": {
    "name": "ipython",
    "version": 3
   },
   "file_extension": ".py",
   "mimetype": "text/x-python",
   "name": "python",
   "nbconvert_exporter": "python",
   "pygments_lexer": "ipython3",
   "version": "3.6.3"
  }
 },
 "nbformat": 4,
 "nbformat_minor": 2
}
